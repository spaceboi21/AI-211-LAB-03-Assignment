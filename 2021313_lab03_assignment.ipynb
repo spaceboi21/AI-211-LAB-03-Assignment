{
 "cells": [
  {
   "cell_type": "code",
   "execution_count": 1,
   "id": "07ad9bb6",
   "metadata": {},
   "outputs": [],
   "source": [
    "#TASK 1\n",
    "class Node:\n",
    "    \n",
    "    def __init__(self, v):\n",
    "        self.val = v\n",
    "        self.left = None\n",
    "        self.right = None\n",
    "        \n",
    "def insert( root, node):\n",
    "    \n",
    "    if root is None:\n",
    "        return node\n",
    "    \n",
    "    if root.val > node.val:\n",
    "        root.left = insert(root.left,node)\n",
    "\n",
    "    elif root.val < node.val:\n",
    "        root.right = insert(root.right,node)\n",
    "\n",
    "    return root\n",
    "\n",
    "val = [100,50,200,150,25,75,210,175,160,50,65,52,180,190]\n",
    "\n",
    "root = Node(val[0])\n",
    "\n",
    "for i in val:\n",
    "    insert(root,Node(i))"
   ]
  },
  {
   "cell_type": "code",
   "execution_count": 2,
   "id": "de65adca",
   "metadata": {},
   "outputs": [
    {
     "name": "stdout",
     "output_type": "stream",
     "text": [
      "[100]\n",
      "POP:  100\n",
      "\n",
      "[50, 200]\n",
      "POP:  50\n",
      "\n",
      "[200, 25, 75]\n",
      "POP:  200\n",
      "\n",
      "[25, 75, 150, 210]\n",
      "POP:  25\n",
      "\n",
      "[75, 150, 210]\n",
      "POP:  75\n",
      "\n",
      "[150, 210, 65]\n",
      "POP:  150\n",
      "\n",
      "[210, 65, 175]\n",
      "POP:  210\n",
      "\n",
      "Result:   [100, 50, 200, 25, 75, 150, 210]\n"
     ]
    }
   ],
   "source": [
    "#BFS on the above tree\n",
    "\n",
    "def BFS(goal):\n",
    "    explored = []\n",
    "    q = []\n",
    "    q.append(root)\n",
    "\n",
    "\n",
    "    while len(q)>0:\n",
    "\n",
    "        #print(q)\n",
    "        \n",
    "        qq = [i.val for i in q]\n",
    "        print(qq)\n",
    "        \n",
    "        node = q.pop(0)\n",
    "        \n",
    "        explored.append(node.val)\n",
    "        \n",
    "        print('POP: ',node.val)\n",
    "        print()\n",
    "\n",
    "        if node.val == goal:\n",
    "            print('Result:  ',explored)\n",
    "            break\n",
    "\n",
    "\n",
    "        if node.left is not None:\n",
    "            q.append(node.left)\n",
    "\n",
    "        if node.right is not None:\n",
    "            q.append(node.right)\n",
    "\n",
    "BFS(210)"
   ]
  },
  {
   "cell_type": "code",
   "execution_count": 3,
   "id": "c63f1b83",
   "metadata": {},
   "outputs": [
    {
     "name": "stdout",
     "output_type": "stream",
     "text": [
      "[100]\n",
      "POP:  100\n",
      "\n",
      "[200, 50]\n",
      "POP:  50\n",
      "\n",
      "[200, 75, 25]\n",
      "POP:  25\n",
      "\n",
      "[200, 75]\n",
      "POP:  75\n",
      "\n",
      "Result:   [100, 50, 25, 75]\n"
     ]
    }
   ],
   "source": [
    "def DFS(goal):\n",
    "    explored = []\n",
    "    s = []\n",
    "    s.append(root)\n",
    "\n",
    "\n",
    "    while len(s)>0:\n",
    "\n",
    "        \n",
    "        \n",
    "        ss = [i.val for i in s]\n",
    "        print(ss)\n",
    "        \n",
    "        node = s.pop()\n",
    "        \n",
    "        explored.append(node.val)\n",
    "        \n",
    "        print('POP: ',node.val)\n",
    "        print()\n",
    "\n",
    "        if node.val == goal:\n",
    "            print('Result:  ',explored)\n",
    "            break\n",
    "\n",
    "        if node.right is not None:\n",
    "            s.append(node.right)\n",
    "            \n",
    "        if node.left is not None:\n",
    "            s.append(node.left)\n",
    "\n",
    "\n",
    "\n",
    "DFS(75)"
   ]
  },
  {
   "cell_type": "code",
   "execution_count": 4,
   "id": "0b57816d",
   "metadata": {},
   "outputs": [
    {
     "name": "stdout",
     "output_type": "stream",
     "text": [
      "Following is Breadth First Traversal (starting from vertex 2)\n",
      "6 7 10 4 2 "
     ]
    }
   ],
   "source": [
    "# Python3 Program to print BFS traversal\n",
    "# from a given source vertex. BFS(int s)\n",
    "# traverses vertices reachable from s.\n",
    "from collections import defaultdict\n",
    " \n",
    "# This class represents a directed graph\n",
    "# using adjacency list representation\n",
    "class Graph:\n",
    " \n",
    "    # Constructor\n",
    "    def __init__(self):\n",
    " \n",
    "        # default dictionary to store graph\n",
    "        self.graph = defaultdict(list)\n",
    " \n",
    "    # function to add an edge to graph\n",
    "    def addEdge(self,u,v):\n",
    "        self.graph[u].append(v)\n",
    " \n",
    "    # Function to print a BFS of graph\n",
    "    def BFS(self, s):\n",
    " \n",
    "        # Mark all the vertices as not visited\n",
    "        visited = [False] * (max(self.graph)+1)\n",
    " \n",
    "        # Create a queue for BFS\n",
    "        queue = []\n",
    " \n",
    "        # Mark the source node as\n",
    "        # visited and enqueue it\n",
    "        queue.append(s)\n",
    "        visited[s] = True\n",
    " \n",
    "        while queue:\n",
    " \n",
    "            # Dequeue a vertex from\n",
    "            # queue and print it\n",
    "            s = queue.pop(0)\n",
    "            print (s, end = \" \")\n",
    " \n",
    "            # Get all adjacent vertices of the\n",
    "            # dequeued vertex s. If a adjacent\n",
    "            # has not been visited, then mark it\n",
    "            # visited and enqueue it\n",
    "            for i in self.graph[s]:\n",
    "                if visited[i] == False:\n",
    "                    queue.append(i)\n",
    "                    visited[i] = True\n",
    " \n",
    "# Driver code\n",
    " \n",
    "# Create a graph given in\n",
    "# the above diagram\n",
    "g = Graph()\n",
    "g.addEdge(10, 2)\n",
    "g.addEdge(7, 10)\n",
    "g.addEdge(11, 10)\n",
    "g.addEdge(11, 7)\n",
    "g.addEdge(4, 2)\n",
    "g.addEdge(4, 6)\n",
    "g.addEdge(7, 4)\n",
    "g.addEdge(6, 7)\n",
    "g.addEdge(11, 6)\n",
    "print (\"Following is Breadth First Traversal (starting from vertex 2)\")\n",
    "g.BFS(6)"
   ]
  },
  {
   "cell_type": "code",
   "execution_count": 5,
   "id": "e88461a3",
   "metadata": {},
   "outputs": [
    {
     "name": "stdout",
     "output_type": "stream",
     "text": [
      "Following is DFS from (starting from vertex 2)\n",
      "7 10 2 4 6 "
     ]
    }
   ],
   "source": [
    "# Python3 program to print DFS traversal\n",
    "# from a given  graph\n",
    "from collections import defaultdict\n",
    " \n",
    "# This class represents a directed graph using\n",
    "# adjacency list representation\n",
    " \n",
    " \n",
    "class Graph:\n",
    " \n",
    "    # Constructor\n",
    "    def __init__(self):\n",
    " \n",
    "        # default dictionary to store graph\n",
    "        self.graph = defaultdict(list)\n",
    " \n",
    "    # function to add an edge to graph\n",
    "    def addEdge(self, u, v):\n",
    "        self.graph[u].append(v)\n",
    " \n",
    "    # A function used by DFS\n",
    "    def DFSUtil(self, v, visited):\n",
    " \n",
    "        # Mark the current node as visited\n",
    "        # and print it\n",
    "        visited.add(v)\n",
    "        print(v, end=' ')\n",
    " \n",
    "        # Recur for all the vertices\n",
    "        # adjacent to this vertex\n",
    "        for neighbour in self.graph[v]:\n",
    "            if neighbour not in visited:\n",
    "                self.DFSUtil(neighbour, visited)\n",
    " \n",
    "    # The function to do DFS traversal. It uses\n",
    "    # recursive DFSUtil()\n",
    "    def DFS(self, v):\n",
    " \n",
    "        # Create a set to store visited vertices\n",
    "        visited = set()\n",
    " \n",
    "        # Call the recursive helper function\n",
    "        # to print DFS traversal\n",
    "        self.DFSUtil(v, visited)\n",
    " \n",
    "# Driver's code\n",
    " \n",
    " \n",
    "# Create a graph given\n",
    "# in the above diagram\n",
    "if __name__ == \"__main__\":\n",
    "    g = Graph()\n",
    "    g.addEdge(10, 2)\n",
    "    g.addEdge(7, 10)\n",
    "    g.addEdge(11, 10)\n",
    "    g.addEdge(11, 7)\n",
    "    g.addEdge(4, 2)\n",
    "    g.addEdge(4, 6)\n",
    "    g.addEdge(7, 4)\n",
    "    g.addEdge(6, 7)\n",
    "    g.addEdge(11, 6)\n",
    " \n",
    "    print(\"Following is DFS from (starting from vertex 2)\")\n",
    "    # Function call\n",
    "    g.DFS(7)"
   ]
  },
  {
   "cell_type": "code",
   "execution_count": 6,
   "id": "39c8ebc8",
   "metadata": {},
   "outputs": [],
   "source": [
    "#TASK 2\n",
    "import random\n",
    "import time\n",
    "\n",
    "class Node:\n",
    "    \n",
    "    def __init__(self, v):\n",
    "        self.val = v\n",
    "        self.left = None\n",
    "        self.right = None\n",
    "        \n",
    "def insert( root, node):\n",
    "    \n",
    "    if root is None:\n",
    "        return node\n",
    "    \n",
    "    if root.val > node.val:\n",
    "        root.left = insert(root.left,node)\n",
    "\n",
    "    elif root.val < node.val:\n",
    "        root.right = insert(root.right,node)\n",
    "\n",
    "    return root\n",
    "\n",
    "\n",
    "\n",
    "\n",
    "def DFS(goal,root):\n",
    "    explored = []\n",
    "    s = []\n",
    "    s.append(root)\n",
    "\n",
    "\n",
    "    while len(s)>0:\n",
    "\n",
    "        \n",
    "        \n",
    "        ss = [i.val for i in s]\n",
    "        print(ss)\n",
    "        \n",
    "        node = s.pop()\n",
    "        \n",
    "        explored.append(node.val)\n",
    "        \n",
    "        print('POP: ',node.val)\n",
    "        print()\n",
    "\n",
    "        if node.val == goal:\n",
    "            print('Result:  ',explored)\n",
    "            break\n",
    "\n",
    "        if node.right is not None:\n",
    "            s.append(node.right)\n",
    "            \n",
    "        if node.left is not None:\n",
    "            s.append(node.left)\n",
    "            \n",
    "            \n",
    "            \n",
    "def BFS(goal,root):\n",
    "    explored = []\n",
    "    q = []\n",
    "    q.append(root)\n",
    "\n",
    "\n",
    "    while len(q)>0:\n",
    "\n",
    "        #print(q)\n",
    "        \n",
    "        qq = [i.val for i in q]\n",
    "        print(qq)\n",
    "        \n",
    "        node = q.pop(0)\n",
    "        \n",
    "        explored.append(node.val)\n",
    "        \n",
    "        print('POP: ',node.val)\n",
    "        print()\n",
    "\n",
    "        if node.val == goal:\n",
    "            print('Result:  ',explored)\n",
    "            break\n",
    "\n",
    "\n",
    "        if node.left is not None:\n",
    "            q.append(node.left)\n",
    "\n",
    "        if node.right is not None:\n",
    "            q.append(node.right)"
   ]
  },
  {
   "cell_type": "code",
   "execution_count": null,
   "id": "2d355ee4",
   "metadata": {},
   "outputs": [],
   "source": [
    "li1 = []\n",
    "for i in range(1000):\n",
    "    a = random.randint(1,200000)\n",
    "    li1.append(a)\n",
    "    \n",
    "root1 = Node(li1[0])\n",
    "for i in li1:\n",
    "    insert(root1,Node(i))\n",
    "btime = time.time()\n",
    "print(\"The BFS result is: \")\n",
    "BFS(li1[len(li1)-220],root1)\n",
    "time.time() -btime"
   ]
  },
  {
   "cell_type": "code",
   "execution_count": null,
   "id": "07e9ae53",
   "metadata": {},
   "outputs": [],
   "source": [
    "dtime = time.time()\n",
    "DFS(li1[len(li1)-220],root1)\n",
    "time.time() -dtime"
   ]
  },
  {
   "cell_type": "code",
   "execution_count": null,
   "id": "ea0cd483",
   "metadata": {},
   "outputs": [],
   "source": [
    "li2 = []\n",
    "for i in range(1000):\n",
    "    a = random.randint(1,200000)\n",
    "    li2.append(a)\n",
    "    \n",
    "root2 = Node(li2[0])\n",
    "for i in li2:\n",
    "    insert(root2,Node(i))\n",
    "\n",
    "btime = time.time()\n",
    "print(\"The BFS result is: \")\n",
    "BFS(li2[len(li2)-220],root2)\n",
    "time.time() -btime"
   ]
  },
  {
   "cell_type": "code",
   "execution_count": null,
   "id": "f2dc1621",
   "metadata": {},
   "outputs": [],
   "source": [
    "dtime = time.time()\n",
    "DFS(li2[len(li2)-220],root2)\n",
    "time.time() -dtime"
   ]
  },
  {
   "cell_type": "code",
   "execution_count": null,
   "id": "dde2de0c",
   "metadata": {},
   "outputs": [],
   "source": [
    "li3 = []\n",
    "for i in range(1000):\n",
    "    a = random.randint(1,200000)\n",
    "    li3.append(a)\n",
    "    \n",
    "root3 = Node(li3[0])\n",
    "for i in li3:\n",
    "    insert(root3,Node(i))\n",
    "\n",
    "btime = time.time()\n",
    "print(\"The BFS result is: \")\n",
    "BFS(li3[len(li3)-220],root3)\n",
    "time.time() -btime"
   ]
  },
  {
   "cell_type": "code",
   "execution_count": null,
   "id": "7ded3ebd",
   "metadata": {},
   "outputs": [],
   "source": [
    "dtime = time.time()\n",
    "DFS(li3[len(li3)-220],root3)\n",
    "time.time() -dtime"
   ]
  },
  {
   "cell_type": "code",
   "execution_count": null,
   "id": "82203675",
   "metadata": {},
   "outputs": [],
   "source": [
    "li4 = []\n",
    "for i in range(1000):\n",
    "    a = random.randint(1,200000)\n",
    "    li4.append(a)\n",
    "    \n",
    "root4 = Node(li1[0])\n",
    "for i in li4:\n",
    "    insert(root4,Node(i))\n",
    "\n",
    "btime = time.time()\n",
    "print(\"The BFS result is: \")\n",
    "BFS(li4[len(li4)-220],root4)\n",
    "time.time() -btime"
   ]
  },
  {
   "cell_type": "code",
   "execution_count": null,
   "id": "f92c294c",
   "metadata": {},
   "outputs": [],
   "source": [
    "dtime = time.time()\n",
    "DFS(li4[len(li4)]-220,root4)\n",
    "time.time() -dtime"
   ]
  },
  {
   "cell_type": "code",
   "execution_count": null,
   "id": "27f08606",
   "metadata": {},
   "outputs": [],
   "source": [
    "li5 = []\n",
    "for i in range(1000):\n",
    "    a = random.randint(1,200000)\n",
    "    li5.append(a)\n",
    "    \n",
    "root5 = Node(li5[0])\n",
    "for i in li5:\n",
    "    insert(root5,Node(i))\n",
    "btime = time.time()    \n",
    "print(\"The BFS result is: \")\n",
    "BFS(li5[len(li5)-220],root5)\n",
    "time.time() -btime"
   ]
  },
  {
   "cell_type": "code",
   "execution_count": null,
   "id": "6cdc0d54",
   "metadata": {},
   "outputs": [],
   "source": [
    "dtime = time.time()\n",
    "DFS(li5[len(li5)]-220,root5)\n",
    "time.time() -dtime"
   ]
  },
  {
   "cell_type": "code",
   "execution_count": 8,
   "id": "ca5346ce",
   "metadata": {},
   "outputs": [
    {
     "data": {
      "image/png": "[encoded data removed]",
      "text/plain": [
       "<Figure size 432x288 with 1 Axes>"
      ]
     },
     "metadata": {
      "needs_background": "light"
     },
     "output_type": "display_data"
    }
   ],
   "source": [
    "import matplotlib.pyplot as plt\n",
    "import numpy as np\n",
    "\n",
    "#SAMPLE VALUES\n",
    "BFS_time_1=0.4\n",
    "DFS_time_1=0.8\n",
    "\n",
    "BFS_time_2=1.2\n",
    "DFS_time_2=1.0\n",
    "\n",
    "BFS_time_3=1.6\n",
    "DFS_time_3=1.2\n",
    "\n",
    "BFS_time_4=2.0\n",
    "DFS_time_4=1.8\n",
    "\n",
    "BFS_time_5=5.0\n",
    "DFS_time_5=3.4\n",
    "\n",
    "X = ['1000','40000','80000','200000','1000000']\n",
    "BFS = [BFS_time_1,BFS_time_2,BFS_time_3,BFS_time_4,BFS_time_5]\n",
    "DFS = [DFS_time_1,DFS_time_2,DFS_time_3,DFS_time_4,DFS_time_5]\n",
    "\n",
    "X_axis = np.arange(len(X))\n",
    "\n",
    "plt.bar(X_axis - 0.2, BFS, 0.4, label = 'BFS')\n",
    "plt.bar(X_axis + 0.2, DFS, 0.4, label = 'DFS')\n",
    "\n",
    "plt.xticks(X_axis, X)\n",
    "plt.xlabel(\"Groups\")\n",
    "plt.ylabel(\"TIME\")\n",
    "plt.title(\"Time for BFS and DFS\")\n",
    "plt.legend()\n",
    "plt.show()"
   ]
  },
  {
   "cell_type": "markdown",
   "id": "cf8a4920",
   "metadata": {},
   "source": [
    "------------------------------------------------------------------------------------------------------------------"
   ]
  },
  {
   "cell_type": "markdown",
   "id": "db02b2b3",
   "metadata": {},
   "source": [
    "TASK 3"
   ]
  },
  {
   "cell_type": "code",
   "execution_count": 1,
   "id": "456da816",
   "metadata": {},
   "outputs": [
    {
     "name": "stdout",
     "output_type": "stream",
     "text": [
      "Defaulting to user installation because normal site-packages is not writeable\n",
      "Requirement already satisfied: binarytree in c:\\users\\hp\\appdata\\roaming\\python\\python39\\site-packages (6.5.1)\n",
      "Requirement already satisfied: graphviz in c:\\users\\hp\\appdata\\roaming\\python\\python39\\site-packages (from binarytree) (0.20.1)\n",
      "Requirement already satisfied: setuptools>=60.8.2 in c:\\programdata\\anaconda3\\lib\\site-packages (from binarytree) (61.2.0)\n",
      "Requirement already satisfied: setuptools-scm[toml]>=5.0.1 in c:\\users\\hp\\appdata\\roaming\\python\\python39\\site-packages (from binarytree) (7.1.0)\n",
      "Requirement already satisfied: packaging>=20.0 in c:\\programdata\\anaconda3\\lib\\site-packages (from setuptools-scm[toml]>=5.0.1->binarytree) (21.3)\n",
      "Requirement already satisfied: tomli>=1.0.0 in c:\\programdata\\anaconda3\\lib\\site-packages (from setuptools-scm[toml]>=5.0.1->binarytree) (1.2.2)\n",
      "Requirement already satisfied: typing-extensions in c:\\programdata\\anaconda3\\lib\\site-packages (from setuptools-scm[toml]>=5.0.1->binarytree) (4.1.1)\n",
      "Requirement already satisfied: pyparsing!=3.0.5,>=2.0.2 in c:\\programdata\\anaconda3\\lib\\site-packages (from packaging>=20.0->setuptools-scm[toml]>=5.0.1->binarytree) (3.0.4)\n",
      "Note: you may need to restart the kernel to use updated packages.\n"
     ]
    }
   ],
   "source": [
    "pip install binarytree --upgrade"
   ]
  },
  {
   "cell_type": "code",
   "execution_count": 1,
   "id": "f9fe1e91",
   "metadata": {},
   "outputs": [
    {
     "name": "stdout",
     "output_type": "stream",
     "text": [
      "\n",
      "     ________________100_____________________\n",
      "    /                                        \\\n",
      "  _50____________           _________________200_\n",
      " /               \\         /                     \\\n",
      "25            ____75     150_____                210\n",
      "             /                   \\\n",
      "           _60                  _175_\n",
      "          /   \\                /     \\\n",
      "        _55    65            160     180_\n",
      "       /                                 \\\n",
      "      52                                 190\n",
      "\n"
     ]
    }
   ],
   "source": [
    "from binarytree import tree, bst, heap\n",
    "from binarytree import Node\n",
    "\n",
    "# class Node:\n",
    "\n",
    "#     def __init__(self, value, left=None, right=None):\n",
    "#         self.value = value  # The node value (float/int/str)\n",
    "#         self.left = left    # Left child\n",
    "#         self.right = right  # Right child\n",
    "         \n",
    "        \n",
    "root = Node(100)\n",
    "root.left = Node(50)\n",
    "root.right = Node(200)\n",
    "root.left.left = Node(25)\n",
    "root.left.right = Node(75)\n",
    "root.right.left = Node(150)\n",
    "root.right.right = Node(210)\n",
    "root.left.right.left = Node(60)\n",
    "root.right.left.right = Node(175)\n",
    "root.left.right.left.left = Node(55)\n",
    "root.left.right.left.right = Node(65)\n",
    "root.right.left.right.left = Node(160)\n",
    "root.right.left.right.right = Node(180)\n",
    "root.left.right.left.left.left = Node(52)\n",
    "root.right.left.right.right.right = Node(190)\n",
    "\n",
    "print(root)\n",
    "\n"
   ]
  },
  {
   "cell_type": "code",
   "execution_count": 6,
   "id": "3d238d6f",
   "metadata": {},
   "outputs": [
    {
     "name": "stdout",
     "output_type": "stream",
     "text": [
      "Defaulting to user installation because normal site-packages is not writeable\n",
      "Collecting anytree\n",
      "  Downloading anytree-2.8.0-py2.py3-none-any.whl (41 kB)\n",
      "Requirement already satisfied: six>=1.9.0 in c:\\programdata\\anaconda3\\lib\\site-packages (from anytree) (1.16.0)\n",
      "Installing collected packages: anytree\n",
      "Successfully installed anytree-2.8.0\n",
      "Note: you may need to restart the kernel to use updated packages.\n"
     ]
    }
   ],
   "source": [
    "pip install anytree"
   ]
  },
  {
   "cell_type": "code",
   "execution_count": 7,
   "id": "d8bb14c6",
   "metadata": {},
   "outputs": [
    {
     "name": "stdout",
     "output_type": "stream",
     "text": [
      "Defaulting to user installation because normal site-packages is not writeable\n",
      "Requirement already satisfied: graphviz in c:\\users\\hp\\appdata\\roaming\\python\\python39\\site-packages (0.20.1)\n",
      "Note: you may need to restart the kernel to use updated packages.\n"
     ]
    }
   ],
   "source": [
    "pip install graphviz"
   ]
  },
  {
   "cell_type": "code",
   "execution_count": 4,
   "id": "181e4715",
   "metadata": {
    "scrolled": true
   },
   "outputs": [
    {
     "name": "stdout",
     "output_type": "stream",
     "text": [
      "100\n",
      "├── 50\n",
      "│   ├── 25\n",
      "│   └── 75\n",
      "│       └── 60\n",
      "│           ├── 65\n",
      "│           └── 55\n",
      "│               └── 52\n",
      "└── 200\n",
      "    ├── 150\n",
      "    │   └── 175\n",
      "    │       ├── 160\n",
      "    │       └── 180\n",
      "    │           └── 190\n",
      "    └── 210\n"
     ]
    }
   ],
   "source": [
    "from anytree import Node, RenderTree\n",
    "from anytree.exporter import DotExporter\n",
    "\n",
    "a = Node(\"100\")\n",
    "b = Node(\"50\", parent=a)\n",
    "c = Node(\"200\", parent=a)\n",
    "d = Node(\"25\", parent=b)\n",
    "e = Node(\"75\", parent=b)\n",
    "f = Node(\"150\", parent=c)\n",
    "g = Node(\"210\", parent=c)\n",
    "h = Node(\"60\", parent=e)\n",
    "i = Node(\"65\", parent=h)\n",
    "j = Node(\"55\", parent=h)\n",
    "k = Node(\"175\", parent=f)\n",
    "l = Node(\"160\", parent=k)\n",
    "m = Node(\"180\", parent=k)\n",
    "n = Node(\"52\", parent=j)\n",
    "o = Node(\"190\", parent=m)\n",
    "\n",
    "for pre, fill, node in RenderTree(a):\n",
    "     print(\"%s%s\" % (pre, node.name))\n"
   ]
  },
  {
   "cell_type": "code",
   "execution_count": 20,
   "id": "a3e00d7c",
   "metadata": {},
   "outputs": [
    {
     "name": "stdout",
     "output_type": "stream",
     "text": [
      "Defaulting to user installation because normal site-packages is not writeable\n",
      "Requirement already satisfied: graphviz in c:\\users\\hp\\appdata\\roaming\\python\\python39\\site-packages (0.20.1)\n",
      "Note: you may need to restart the kernel to use updated packages.\n"
     ]
    }
   ],
   "source": [
    "pip install graphviz"
   ]
  },
  {
   "cell_type": "code",
   "execution_count": 9,
   "id": "f4cc5cdc",
   "metadata": {},
   "outputs": [
    {
     "ename": "FileNotFoundError",
     "evalue": "[WinError 2] The system cannot find the file specified",
     "output_type": "error",
     "traceback": [
      "\u001b[1;31m---------------------------------------------------------------------------\u001b[0m",
      "\u001b[1;31mFileNotFoundError\u001b[0m                         Traceback (most recent call last)",
      "Input \u001b[1;32mIn [9]\u001b[0m, in \u001b[0;36m<cell line: 4>\u001b[1;34m()\u001b[0m\n\u001b[0;32m      2\u001b[0m \u001b[38;5;28;01mimport\u001b[39;00m \u001b[38;5;21;01mgraphviz\u001b[39;00m\n\u001b[0;32m      3\u001b[0m \u001b[38;5;66;03m# graphviz needs to be installed for the next line!\u001b[39;00m\n\u001b[1;32m----> 4\u001b[0m \u001b[43mDotExporter\u001b[49m\u001b[43m(\u001b[49m\u001b[43ma\u001b[49m\u001b[43m)\u001b[49m\u001b[38;5;241;43m.\u001b[39;49m\u001b[43mto_picture\u001b[49m\u001b[43m(\u001b[49m\u001b[38;5;124;43m\"\u001b[39;49m\u001b[38;5;124;43ma.png\u001b[39;49m\u001b[38;5;124;43m\"\u001b[39;49m\u001b[43m)\u001b[49m\n",
      "File \u001b[1;32m~\\AppData\\Roaming\\Python\\Python39\\site-packages\\anytree\\exporter\\dotexporter.py:272\u001b[0m, in \u001b[0;36mDotExporter.to_picture\u001b[1;34m(self, filename)\u001b[0m\n\u001b[0;32m    270\u001b[0m     dotfile\u001b[38;5;241m.\u001b[39mflush()\n\u001b[0;32m    271\u001b[0m     cmd \u001b[38;5;241m=\u001b[39m [\u001b[38;5;124m\"\u001b[39m\u001b[38;5;124mdot\u001b[39m\u001b[38;5;124m\"\u001b[39m, dotfilename, \u001b[38;5;124m\"\u001b[39m\u001b[38;5;124m-T\u001b[39m\u001b[38;5;124m\"\u001b[39m, fileformat, \u001b[38;5;124m\"\u001b[39m\u001b[38;5;124m-o\u001b[39m\u001b[38;5;124m\"\u001b[39m, filename]\n\u001b[1;32m--> 272\u001b[0m     \u001b[43mcheck_call\u001b[49m\u001b[43m(\u001b[49m\u001b[43mcmd\u001b[49m\u001b[43m)\u001b[49m\n\u001b[0;32m    273\u001b[0m \u001b[38;5;28;01mtry\u001b[39;00m:\n\u001b[0;32m    274\u001b[0m     remove(dotfilename)\n",
      "File \u001b[1;32mC:\\ProgramData\\Anaconda3\\lib\\subprocess.py:368\u001b[0m, in \u001b[0;36mcheck_call\u001b[1;34m(*popenargs, **kwargs)\u001b[0m\n\u001b[0;32m    358\u001b[0m \u001b[38;5;28;01mdef\u001b[39;00m \u001b[38;5;21mcheck_call\u001b[39m(\u001b[38;5;241m*\u001b[39mpopenargs, \u001b[38;5;241m*\u001b[39m\u001b[38;5;241m*\u001b[39mkwargs):\n\u001b[0;32m    359\u001b[0m     \u001b[38;5;124;03m\"\"\"Run command with arguments.  Wait for command to complete.  If\u001b[39;00m\n\u001b[0;32m    360\u001b[0m \u001b[38;5;124;03m    the exit code was zero then return, otherwise raise\u001b[39;00m\n\u001b[0;32m    361\u001b[0m \u001b[38;5;124;03m    CalledProcessError.  The CalledProcessError object will have the\u001b[39;00m\n\u001b[1;32m   (...)\u001b[0m\n\u001b[0;32m    366\u001b[0m \u001b[38;5;124;03m    check_call([\"ls\", \"-l\"])\u001b[39;00m\n\u001b[0;32m    367\u001b[0m \u001b[38;5;124;03m    \"\"\"\u001b[39;00m\n\u001b[1;32m--> 368\u001b[0m     retcode \u001b[38;5;241m=\u001b[39m call(\u001b[38;5;241m*\u001b[39mpopenargs, \u001b[38;5;241m*\u001b[39m\u001b[38;5;241m*\u001b[39mkwargs)\n\u001b[0;32m    369\u001b[0m     \u001b[38;5;28;01mif\u001b[39;00m retcode:\n\u001b[0;32m    370\u001b[0m         cmd \u001b[38;5;241m=\u001b[39m kwargs\u001b[38;5;241m.\u001b[39mget(\u001b[38;5;124m\"\u001b[39m\u001b[38;5;124margs\u001b[39m\u001b[38;5;124m\"\u001b[39m)\n",
      "File \u001b[1;32mC:\\ProgramData\\Anaconda3\\lib\\subprocess.py:349\u001b[0m, in \u001b[0;36mcall\u001b[1;34m(timeout, *popenargs, **kwargs)\u001b[0m\n\u001b[0;32m    341\u001b[0m \u001b[38;5;28;01mdef\u001b[39;00m \u001b[38;5;21mcall\u001b[39m(\u001b[38;5;241m*\u001b[39mpopenargs, timeout\u001b[38;5;241m=\u001b[39m\u001b[38;5;28;01mNone\u001b[39;00m, \u001b[38;5;241m*\u001b[39m\u001b[38;5;241m*\u001b[39mkwargs):\n\u001b[0;32m    342\u001b[0m     \u001b[38;5;124;03m\"\"\"Run command with arguments.  Wait for command to complete or\u001b[39;00m\n\u001b[0;32m    343\u001b[0m \u001b[38;5;124;03m    timeout, then return the returncode attribute.\u001b[39;00m\n\u001b[0;32m    344\u001b[0m \n\u001b[1;32m   (...)\u001b[0m\n\u001b[0;32m    347\u001b[0m \u001b[38;5;124;03m    retcode = call([\"ls\", \"-l\"])\u001b[39;00m\n\u001b[0;32m    348\u001b[0m \u001b[38;5;124;03m    \"\"\"\u001b[39;00m\n\u001b[1;32m--> 349\u001b[0m     \u001b[38;5;28;01mwith\u001b[39;00m Popen(\u001b[38;5;241m*\u001b[39mpopenargs, \u001b[38;5;241m*\u001b[39m\u001b[38;5;241m*\u001b[39mkwargs) \u001b[38;5;28;01mas\u001b[39;00m p:\n\u001b[0;32m    350\u001b[0m         \u001b[38;5;28;01mtry\u001b[39;00m:\n\u001b[0;32m    351\u001b[0m             \u001b[38;5;28;01mreturn\u001b[39;00m p\u001b[38;5;241m.\u001b[39mwait(timeout\u001b[38;5;241m=\u001b[39mtimeout)\n",
      "File \u001b[1;32mC:\\ProgramData\\Anaconda3\\lib\\subprocess.py:951\u001b[0m, in \u001b[0;36mPopen.__init__\u001b[1;34m(self, args, bufsize, executable, stdin, stdout, stderr, preexec_fn, close_fds, shell, cwd, env, universal_newlines, startupinfo, creationflags, restore_signals, start_new_session, pass_fds, user, group, extra_groups, encoding, errors, text, umask)\u001b[0m\n\u001b[0;32m    947\u001b[0m         \u001b[38;5;28;01mif\u001b[39;00m \u001b[38;5;28mself\u001b[39m\u001b[38;5;241m.\u001b[39mtext_mode:\n\u001b[0;32m    948\u001b[0m             \u001b[38;5;28mself\u001b[39m\u001b[38;5;241m.\u001b[39mstderr \u001b[38;5;241m=\u001b[39m io\u001b[38;5;241m.\u001b[39mTextIOWrapper(\u001b[38;5;28mself\u001b[39m\u001b[38;5;241m.\u001b[39mstderr,\n\u001b[0;32m    949\u001b[0m                     encoding\u001b[38;5;241m=\u001b[39mencoding, errors\u001b[38;5;241m=\u001b[39merrors)\n\u001b[1;32m--> 951\u001b[0m     \u001b[38;5;28;43mself\u001b[39;49m\u001b[38;5;241;43m.\u001b[39;49m\u001b[43m_execute_child\u001b[49m\u001b[43m(\u001b[49m\u001b[43margs\u001b[49m\u001b[43m,\u001b[49m\u001b[43m \u001b[49m\u001b[43mexecutable\u001b[49m\u001b[43m,\u001b[49m\u001b[43m \u001b[49m\u001b[43mpreexec_fn\u001b[49m\u001b[43m,\u001b[49m\u001b[43m \u001b[49m\u001b[43mclose_fds\u001b[49m\u001b[43m,\u001b[49m\n\u001b[0;32m    952\u001b[0m \u001b[43m                        \u001b[49m\u001b[43mpass_fds\u001b[49m\u001b[43m,\u001b[49m\u001b[43m \u001b[49m\u001b[43mcwd\u001b[49m\u001b[43m,\u001b[49m\u001b[43m \u001b[49m\u001b[43menv\u001b[49m\u001b[43m,\u001b[49m\n\u001b[0;32m    953\u001b[0m \u001b[43m                        \u001b[49m\u001b[43mstartupinfo\u001b[49m\u001b[43m,\u001b[49m\u001b[43m \u001b[49m\u001b[43mcreationflags\u001b[49m\u001b[43m,\u001b[49m\u001b[43m \u001b[49m\u001b[43mshell\u001b[49m\u001b[43m,\u001b[49m\n\u001b[0;32m    954\u001b[0m \u001b[43m                        \u001b[49m\u001b[43mp2cread\u001b[49m\u001b[43m,\u001b[49m\u001b[43m \u001b[49m\u001b[43mp2cwrite\u001b[49m\u001b[43m,\u001b[49m\n\u001b[0;32m    955\u001b[0m \u001b[43m                        \u001b[49m\u001b[43mc2pread\u001b[49m\u001b[43m,\u001b[49m\u001b[43m \u001b[49m\u001b[43mc2pwrite\u001b[49m\u001b[43m,\u001b[49m\n\u001b[0;32m    956\u001b[0m \u001b[43m                        \u001b[49m\u001b[43merrread\u001b[49m\u001b[43m,\u001b[49m\u001b[43m \u001b[49m\u001b[43merrwrite\u001b[49m\u001b[43m,\u001b[49m\n\u001b[0;32m    957\u001b[0m \u001b[43m                        \u001b[49m\u001b[43mrestore_signals\u001b[49m\u001b[43m,\u001b[49m\n\u001b[0;32m    958\u001b[0m \u001b[43m                        \u001b[49m\u001b[43mgid\u001b[49m\u001b[43m,\u001b[49m\u001b[43m \u001b[49m\u001b[43mgids\u001b[49m\u001b[43m,\u001b[49m\u001b[43m \u001b[49m\u001b[43muid\u001b[49m\u001b[43m,\u001b[49m\u001b[43m \u001b[49m\u001b[43mumask\u001b[49m\u001b[43m,\u001b[49m\n\u001b[0;32m    959\u001b[0m \u001b[43m                        \u001b[49m\u001b[43mstart_new_session\u001b[49m\u001b[43m)\u001b[49m\n\u001b[0;32m    960\u001b[0m \u001b[38;5;28;01mexcept\u001b[39;00m:\n\u001b[0;32m    961\u001b[0m     \u001b[38;5;66;03m# Cleanup if the child failed starting.\u001b[39;00m\n\u001b[0;32m    962\u001b[0m     \u001b[38;5;28;01mfor\u001b[39;00m f \u001b[38;5;129;01min\u001b[39;00m \u001b[38;5;28mfilter\u001b[39m(\u001b[38;5;28;01mNone\u001b[39;00m, (\u001b[38;5;28mself\u001b[39m\u001b[38;5;241m.\u001b[39mstdin, \u001b[38;5;28mself\u001b[39m\u001b[38;5;241m.\u001b[39mstdout, \u001b[38;5;28mself\u001b[39m\u001b[38;5;241m.\u001b[39mstderr)):\n",
      "File \u001b[1;32mC:\\ProgramData\\Anaconda3\\lib\\subprocess.py:1420\u001b[0m, in \u001b[0;36mPopen._execute_child\u001b[1;34m(self, args, executable, preexec_fn, close_fds, pass_fds, cwd, env, startupinfo, creationflags, shell, p2cread, p2cwrite, c2pread, c2pwrite, errread, errwrite, unused_restore_signals, unused_gid, unused_gids, unused_uid, unused_umask, unused_start_new_session)\u001b[0m\n\u001b[0;32m   1418\u001b[0m \u001b[38;5;66;03m# Start the process\u001b[39;00m\n\u001b[0;32m   1419\u001b[0m \u001b[38;5;28;01mtry\u001b[39;00m:\n\u001b[1;32m-> 1420\u001b[0m     hp, ht, pid, tid \u001b[38;5;241m=\u001b[39m \u001b[43m_winapi\u001b[49m\u001b[38;5;241;43m.\u001b[39;49m\u001b[43mCreateProcess\u001b[49m\u001b[43m(\u001b[49m\u001b[43mexecutable\u001b[49m\u001b[43m,\u001b[49m\u001b[43m \u001b[49m\u001b[43margs\u001b[49m\u001b[43m,\u001b[49m\n\u001b[0;32m   1421\u001b[0m \u001b[43m                             \u001b[49m\u001b[38;5;66;43;03m# no special security\u001b[39;49;00m\n\u001b[0;32m   1422\u001b[0m \u001b[43m                             \u001b[49m\u001b[38;5;28;43;01mNone\u001b[39;49;00m\u001b[43m,\u001b[49m\u001b[43m \u001b[49m\u001b[38;5;28;43;01mNone\u001b[39;49;00m\u001b[43m,\u001b[49m\n\u001b[0;32m   1423\u001b[0m \u001b[43m                             \u001b[49m\u001b[38;5;28;43mint\u001b[39;49m\u001b[43m(\u001b[49m\u001b[38;5;129;43;01mnot\u001b[39;49;00m\u001b[43m \u001b[49m\u001b[43mclose_fds\u001b[49m\u001b[43m)\u001b[49m\u001b[43m,\u001b[49m\n\u001b[0;32m   1424\u001b[0m \u001b[43m                             \u001b[49m\u001b[43mcreationflags\u001b[49m\u001b[43m,\u001b[49m\n\u001b[0;32m   1425\u001b[0m \u001b[43m                             \u001b[49m\u001b[43menv\u001b[49m\u001b[43m,\u001b[49m\n\u001b[0;32m   1426\u001b[0m \u001b[43m                             \u001b[49m\u001b[43mcwd\u001b[49m\u001b[43m,\u001b[49m\n\u001b[0;32m   1427\u001b[0m \u001b[43m                             \u001b[49m\u001b[43mstartupinfo\u001b[49m\u001b[43m)\u001b[49m\n\u001b[0;32m   1428\u001b[0m \u001b[38;5;28;01mfinally\u001b[39;00m:\n\u001b[0;32m   1429\u001b[0m     \u001b[38;5;66;03m# Child is launched. Close the parent's copy of those pipe\u001b[39;00m\n\u001b[0;32m   1430\u001b[0m     \u001b[38;5;66;03m# handles that only the child should have open.  You need\u001b[39;00m\n\u001b[1;32m   (...)\u001b[0m\n\u001b[0;32m   1433\u001b[0m     \u001b[38;5;66;03m# pipe will not close when the child process exits and the\u001b[39;00m\n\u001b[0;32m   1434\u001b[0m     \u001b[38;5;66;03m# ReadFile will hang.\u001b[39;00m\n\u001b[0;32m   1435\u001b[0m     \u001b[38;5;28mself\u001b[39m\u001b[38;5;241m.\u001b[39m_close_pipe_fds(p2cread, p2cwrite,\n\u001b[0;32m   1436\u001b[0m                          c2pread, c2pwrite,\n\u001b[0;32m   1437\u001b[0m                          errread, errwrite)\n",
      "\u001b[1;31mFileNotFoundError\u001b[0m: [WinError 2] The system cannot find the file specified"
     ]
    }
   ],
   "source": [
    "from anytree.exporter import DotExporter\n",
    "import graphviz\n",
    "# graphviz needs to be installed for the next line!\n",
    "DotExporter(a).to_picture(\"a.png\")\n"
   ]
  },
  {
   "cell_type": "code",
   "execution_count": 11,
   "id": "6c6e101c",
   "metadata": {},
   "outputs": [
    {
     "name": "stdout",
     "output_type": "stream",
     "text": [
      "^C\n",
      "\n",
      "Note: you may need to restart the kernel to use updated packages.\n"
     ]
    }
   ],
   "source": [
    "conda install python-graphviz"
   ]
  },
  {
   "cell_type": "code",
   "execution_count": 13,
   "id": "fe63562d",
   "metadata": {},
   "outputs": [
    {
     "name": "stdout",
     "output_type": "stream",
     "text": [
      "Defaulting to user installation because normal site-packages is not writeable\n",
      "Requirement already satisfied: treelib in c:\\users\\hp\\appdata\\roaming\\python\\python39\\site-packages (1.6.1)\n",
      "Requirement already satisfied: future in c:\\programdata\\anaconda3\\lib\\site-packages (from treelib) (0.18.2)\n",
      "Note: you may need to restart the kernel to use updated packages.\n"
     ]
    }
   ],
   "source": [
    "pip install -U treelib"
   ]
  },
  {
   "cell_type": "code",
   "execution_count": 2,
   "id": "fd8eb80e",
   "metadata": {},
   "outputs": [
    {
     "name": "stdout",
     "output_type": "stream",
     "text": [
      "100\n",
      "├── 200\n",
      "│   ├── 150\n",
      "│   │   └── 175\n",
      "│   │       ├── 160\n",
      "│   │       └── 180\n",
      "│   │           └── 190\n",
      "│   └── 210\n",
      "└── 50\n",
      "    ├── 25\n",
      "    └── 75\n",
      "        └── 60\n",
      "            ├── 55\n",
      "            │   └── 52\n",
      "            └── 65\n",
      "\n"
     ]
    }
   ],
   "source": [
    ">>> from treelib import Node, Tree\n",
    ">>> tree = Tree()\n",
    ">>> tree.create_node(\"100\", \"100\")  # root node\n",
    ">>> tree.create_node(\"50\", \"50\", parent=\"100\")\n",
    ">>> tree.create_node(\"200\", \"200\", parent=\"100\")\n",
    ">>> tree.create_node(\"25\", \"25\", parent=\"50\")\n",
    ">>> tree.create_node(\"75\", \"75\", parent=\"50\")\n",
    ">>> tree.create_node(\"150\", \"150\", parent=\"200\")\n",
    ">>> tree.create_node(\"210\", \"210\", parent=\"200\")\n",
    ">>> tree.create_node(\"60\", \"60\", parent=\"75\")\n",
    ">>> tree.create_node(\"55\", \"55\", parent=\"60\")\n",
    ">>> tree.create_node(\"65\", \"65\", parent=\"60\")\n",
    ">>> tree.create_node(\"175\", \"175\", parent=\"150\")\n",
    ">>> tree.create_node(\"160\", \"160\", parent=\"175\")\n",
    ">>> tree.create_node(\"180\", \"180\", parent=\"175\")\n",
    ">>> tree.create_node(\"52\", \"52\", parent=\"55\")\n",
    ">>> tree.create_node(\"190\", \"190\", parent=\"180\")\n",
    ">>> tree.show()"
   ]
  },
  {
   "cell_type": "markdown",
   "id": "ee38b215",
   "metadata": {},
   "source": [
    "-----------------------------------------------------"
   ]
  },
  {
   "cell_type": "markdown",
   "id": "3477c1c9",
   "metadata": {},
   "source": [
    "TASK 4"
   ]
  },
  {
   "cell_type": "code",
   "execution_count": 3,
   "id": "4284852c",
   "metadata": {},
   "outputs": [],
   "source": [
    "d = {'s':[('a',3),('b',2),('c',4)],     \n",
    "    'a':[('d',1)],\n",
    "    'b':[('e',8),('f',7),('d',1)],\n",
    "    'c':[('e',1),('j',3)],\n",
    "    'd':[('f',1),('h',1)],\n",
    "    'e':[('g',1)],\n",
    "    'f':[('g',5)],\n",
    "    'h':[('g',1),('f',3)],\n",
    "    'j':[('e',2)],\n",
    "    'g':[]}"
   ]
  },
  {
   "cell_type": "code",
   "execution_count": 4,
   "id": "492f69b7",
   "metadata": {},
   "outputs": [],
   "source": [
    "def myy(li):\n",
    "    z= dict()\n",
    "    for i in li:\n",
    "        z[i[0]] = i[1]\n",
    "    return z"
   ]
  },
  {
   "cell_type": "code",
   "execution_count": 5,
   "id": "58f77400",
   "metadata": {},
   "outputs": [],
   "source": [
    "def my(x):\n",
    "    return x[1]"
   ]
  },
  {
   "cell_type": "code",
   "execution_count": 7,
   "id": "c2a79567",
   "metadata": {},
   "outputs": [
    {
     "name": "stdout",
     "output_type": "stream",
     "text": [
      "POP:  ('s', 0)\n",
      "POP:  ('a', 3)\n",
      "POP:  ('b', 2)\n",
      "*********** [('d', 1), ('c', 4), ('f', 7), ('e', 8)]\n",
      "POP:  ('d', 1)\n",
      "*********** [('c', 4), ('f', 7), ('e', 8)]\n",
      "POP:  ('c', 4)\n",
      "*********** [('h', 1), ('f', 7), ('e', 8)]\n",
      "POP:  ('h', 1)\n",
      "*********** [('g', 1), ('j', 3), ('f', 7), ('e', 8)]\n",
      "POP:  ('g', 1)\n",
      "+++++++++ ['s', 'a', 'b', 'd', 'c', 'h', 'g']\n"
     ]
    }
   ],
   "source": [
    "def UCS(goal):\n",
    "\n",
    "    q = []\n",
    "    q.append(('s',0))\n",
    "    explored = []\n",
    "\n",
    "    while len(q)> 0:\n",
    "\n",
    "        #print(q)\n",
    "        node = q.pop(0)\n",
    "\n",
    "\n",
    "        print('POP: ',node)\n",
    "        #print(q)\n",
    "\n",
    "        explored.append(node[0])\n",
    "\n",
    "        if node[0] == goal:\n",
    "            print('+++++++++',explored)\n",
    "            break\n",
    "\n",
    "\n",
    "        child = d.get(node[0])\n",
    "        #print(child)\n",
    "\n",
    "        for i in child:\n",
    "            \n",
    "            if i[0] not in explored and i[0] not in myy(q):\n",
    "                cost = node[1] + i[1]\n",
    "                new = (i[0],cost)\n",
    "                #print(node[1],'+',i[1],'=',cost)\n",
    "                #print('old: ',i,'new->',new)\n",
    "                #print()\n",
    "                q.append(i)\n",
    "            else:  \n",
    "                q = sorted(q,key=my)\n",
    "                print('***********',q)\n",
    "\n",
    "                \n",
    "UCS('g')"
   ]
  },
  {
   "cell_type": "code",
   "execution_count": 27,
   "id": "1a238944",
   "metadata": {},
   "outputs": [],
   "source": [
    "data = '''a b 10\n",
    "a c 5\n",
    "a d 6\n",
    "a e 15\n",
    "a f 8\n",
    "c d 9\n",
    "f c 12\n",
    "d e 16\n",
    "e b 4\n",
    "b f 5\n",
    "'''"
   ]
  },
  {
   "cell_type": "code",
   "execution_count": 28,
   "id": "8da003a8",
   "metadata": {},
   "outputs": [
    {
     "data": {
      "text/plain": [
       "'a b 10\\na c 5\\na d 6\\na e 15\\na f 8\\nc d 9\\nf c 12\\nd e 16\\ne b 4\\nb f 5\\n'"
      ]
     },
     "execution_count": 28,
     "metadata": {},
     "output_type": "execute_result"
    }
   ],
   "source": [
    "data"
   ]
  },
  {
   "cell_type": "code",
   "execution_count": 29,
   "id": "7b685099",
   "metadata": {},
   "outputs": [
    {
     "name": "stdout",
     "output_type": "stream",
     "text": [
      "{'a': {'b': 10, 'c': 5, 'd': 6, 'e': 15, 'f': 8}, 'b': {'a': 10, 'e': 4, 'f': 5}, 'c': {'a': 5, 'd': 9, 'f': 12}, 'd': {'a': 6, 'c': 9, 'e': 16}, 'e': {'a': 15, 'd': 16, 'b': 4}, 'f': {'a': 8, 'c': 12, 'b': 5}}\n"
     ]
    }
   ],
   "source": [
    "data = data.split()\n",
    "\n",
    "graph = {}\n",
    "\n",
    "# Add vertices and edges to the graph dictionary\n",
    "for i in range(0, len(data), 3):\n",
    "    u, v, weight = data[i], data[i+1], int(data[i+2])\n",
    "    if u not in graph:\n",
    "        graph[u] = {}\n",
    "    if v not in graph:\n",
    "        graph[v] = {}\n",
    "    graph[u][v] = weight\n",
    "    graph[v][u] = weight\n",
    "\n",
    "print(graph)"
   ]
  },
  {
   "cell_type": "code",
   "execution_count": 31,
   "id": "5463109c",
   "metadata": {},
   "outputs": [
    {
     "name": "stdout",
     "output_type": "stream",
     "text": [
      "POP:  ('a', 0)\n",
      "*********** [('c', 5), ('d', 6), ('f', 8), ('b', 10), ('e', 15)]\n",
      "POP:  ('c', 5)\n",
      "*********** [('d', 6), ('f', 8), ('b', 10), ('e', 15)]\n",
      "POP:  ('d', 6)\n",
      "*********** [('f', 8), ('b', 10), ('e', 15)]\n",
      "POP:  ('f', 8)\n",
      "+++++++++ ['a', 'c', 'd', 'f']\n",
      "['a', 'f']\n"
     ]
    }
   ],
   "source": [
    "def UCS(graph,start,goal):\n",
    "\n",
    "    q = []\n",
    "    q.append((start,0))\n",
    "    explored = []\n",
    "    parent = {start:None}\n",
    "    \n",
    "    while len(q)> 0:\n",
    "\n",
    "        #print(q)\n",
    "        node = q.pop(0)\n",
    "        print('POP: ',node)\n",
    "        explored.append(node[0])\n",
    "\n",
    "\n",
    "        if node[0] == goal:\n",
    "            print('+++++++++',explored)\n",
    "            path = []\n",
    "            current = goal\n",
    "            while current is not None:\n",
    "                    path.append(current)\n",
    "                    current = parent[current]\n",
    "            path.reverse()\n",
    "            print(path)\n",
    "            break\n",
    "\n",
    "\n",
    "        child = graph.get(node[0])\n",
    "        #print(child)\n",
    "        if child is not None:\n",
    "            child = child.items()\n",
    "            \n",
    "            for i in child:\n",
    "            \n",
    "                if i[0] not in explored and i[0] not in myy(q):\n",
    "                    cost = node[1] + i[1]\n",
    "                    new = (i[0],cost)\n",
    "                    parent[i[0]] = node[0]\n",
    "                    q.append(new)\n",
    "                #print(node[1],'+',i[1],'=',cost)\n",
    "                #print('old: ',i,'new->',new)\n",
    "                #print()\n",
    "            else:\n",
    "                for j in q:\n",
    "                    if j[0] == i[0] and j[1] > node[1] + i[1]:\n",
    "                        q.remove(j)\n",
    "                        parent[i[0]] = node[0]\n",
    "                        q.append((i[0],node[i]+i[1]))\n",
    "            q = sorted(q,key=my)\n",
    "        print('***********',q)\n",
    "\n",
    "                \n",
    "UCS(graph,'a','f')"
   ]
  },
  {
   "cell_type": "code",
   "execution_count": 32,
   "id": "477b335b",
   "metadata": {},
   "outputs": [],
   "source": [
    "data = '''Arad Zerind 75\n",
    "Arad Timisoara 118\n",
    "Arad Sibiu 140\n",
    "Zerind Oradea 71\n",
    "Timisoara Lugoj 111\n",
    "Sibiu Oradea 151\n",
    "Sibiu Fagaras 99\n",
    "Sibiu Rimnicu-Vilcea 80\n",
    "Lugoj Mehadia 70\n",
    "Fagaras Bucharest 211\n",
    "Rimnicu-Vilcea Pitesti 97\n",
    "Rimnicu-Vilcea Craiova 146\n",
    "Mehadia Dobreta 75\n",
    "Dobreta Craiova 120\n",
    "Craiova Pitesti 138\n",
    "Pitesti Bucharest 101\n",
    "Bucharest Giurgiu 90\n",
    "Bucharest Urziceni 85\n",
    "Urziceni Hirsova 98\n",
    "Hirsova Eforie 86\n",
    "Urziceni Vaslui 142\n",
    "Vaslui Lasi 92\n",
    "Lasi Neamt 87\n",
    "'''\n",
    "data = data.split()"
   ]
  },
  {
   "cell_type": "code",
   "execution_count": 33,
   "id": "421d3246",
   "metadata": {},
   "outputs": [],
   "source": [
    "#sir it was an issue with the internet so i searched the codes in chat gpt and online away from the screen, now i would be compiling them\n",
    "graph = {}\n",
    "for i in range(0, len(data), 3):\n",
    "    source = data[i]\n",
    "    destination = data[i+1]\n",
    "    weight = int(data[i+2])\n",
    "    \n",
    "    if source not in graph:\n",
    "        graph[source] = {}\n",
    "    graph[source][destination] = weight\n",
    "    \n",
    "    if destination not in graph:\n",
    "        graph[destination] = {}\n",
    "    graph[destination][source] = weight\n",
    "\n"
   ]
  },
  {
   "cell_type": "code",
   "execution_count": 34,
   "id": "92d5b3b0",
   "metadata": {},
   "outputs": [
    {
     "data": {
      "text/plain": [
       "{'Arad': {'Zerind': 75, 'Timisoara': 118, 'Sibiu': 140},\n",
       " 'Zerind': {'Arad': 75, 'Oradea': 71},\n",
       " 'Timisoara': {'Arad': 118, 'Lugoj': 111},\n",
       " 'Sibiu': {'Arad': 140, 'Oradea': 151, 'Fagaras': 99, 'Rimnicu-Vilcea': 80},\n",
       " 'Oradea': {'Zerind': 71, 'Sibiu': 151},\n",
       " 'Lugoj': {'Timisoara': 111, 'Mehadia': 70},\n",
       " 'Fagaras': {'Sibiu': 99, 'Bucharest': 211},\n",
       " 'Rimnicu-Vilcea': {'Sibiu': 80, 'Pitesti': 97, 'Craiova': 146},\n",
       " 'Mehadia': {'Lugoj': 70, 'Dobreta': 75},\n",
       " 'Bucharest': {'Fagaras': 211, 'Pitesti': 101, 'Giurgiu': 90, 'Urziceni': 85},\n",
       " 'Pitesti': {'Rimnicu-Vilcea': 97, 'Craiova': 138, 'Bucharest': 101},\n",
       " 'Craiova': {'Rimnicu-Vilcea': 146, 'Dobreta': 120, 'Pitesti': 138},\n",
       " 'Dobreta': {'Mehadia': 75, 'Craiova': 120},\n",
       " 'Giurgiu': {'Bucharest': 90},\n",
       " 'Urziceni': {'Bucharest': 85, 'Hirsova': 98, 'Vaslui': 142},\n",
       " 'Hirsova': {'Urziceni': 98, 'Eforie': 86},\n",
       " 'Eforie': {'Hirsova': 86},\n",
       " 'Vaslui': {'Urziceni': 142, 'Lasi': 92},\n",
       " 'Lasi': {'Vaslui': 92, 'Neamt': 87},\n",
       " 'Neamt': {'Lasi': 87}}"
      ]
     },
     "execution_count": 34,
     "metadata": {},
     "output_type": "execute_result"
    }
   ],
   "source": [
    "graph"
   ]
  },
  {
   "cell_type": "code",
   "execution_count": 36,
   "id": "db43eff7",
   "metadata": {},
   "outputs": [
    {
     "name": "stdout",
     "output_type": "stream",
     "text": [
      "POP:  ('Arad', 0)\n",
      "*********** [('Zerind', 75), ('Timisoara', 118), ('Sibiu', 140)]\n",
      "POP:  ('Zerind', 75)\n",
      "*********** [('Timisoara', 118), ('Sibiu', 140), ('Oradea', 146)]\n",
      "POP:  ('Timisoara', 118)\n",
      "*********** [('Sibiu', 140), ('Oradea', 146), ('Lugoj', 229)]\n",
      "POP:  ('Sibiu', 140)\n",
      "*********** [('Oradea', 146), ('Rimnicu-Vilcea', 220), ('Lugoj', 229), ('Fagaras', 239)]\n",
      "POP:  ('Oradea', 146)\n",
      "*********** [('Rimnicu-Vilcea', 220), ('Lugoj', 229), ('Fagaras', 239)]\n",
      "POP:  ('Rimnicu-Vilcea', 220)\n",
      "*********** [('Lugoj', 229), ('Fagaras', 239), ('Pitesti', 317), ('Craiova', 366)]\n",
      "POP:  ('Lugoj', 229)\n",
      "*********** [('Fagaras', 239), ('Mehadia', 299), ('Pitesti', 317), ('Craiova', 366)]\n",
      "POP:  ('Fagaras', 239)\n",
      "*********** [('Mehadia', 299), ('Pitesti', 317), ('Craiova', 366), ('Bucharest', 450)]\n",
      "POP:  ('Mehadia', 299)\n",
      "*********** [('Pitesti', 317), ('Craiova', 366), ('Dobreta', 374), ('Bucharest', 450)]\n",
      "POP:  ('Pitesti', 317)\n",
      "*********** [('Craiova', 366), ('Dobreta', 374), ('Bucharest', 418)]\n",
      "POP:  ('Craiova', 366)\n",
      "*********** [('Dobreta', 374), ('Bucharest', 418)]\n",
      "POP:  ('Dobreta', 374)\n",
      "*********** [('Bucharest', 418)]\n",
      "POP:  ('Bucharest', 418)\n",
      "+++++++++ ['Arad', 'Zerind', 'Timisoara', 'Sibiu', 'Oradea', 'Rimnicu-Vilcea', 'Lugoj', 'Fagaras', 'Mehadia', 'Pitesti', 'Craiova', 'Dobreta', 'Bucharest']\n",
      "['Arad', 'Sibiu', 'Rimnicu-Vilcea', 'Pitesti', 'Bucharest']\n"
     ]
    }
   ],
   "source": [
    "def UCS(graph,start,goal):\n",
    "\n",
    "    q = []\n",
    "    q.append((start,0))\n",
    "    explored = []\n",
    "    parent = {start:None}\n",
    "    \n",
    "    while len(q)> 0:\n",
    "\n",
    "        #print(q)\n",
    "        node = q.pop(0)\n",
    "        print('POP: ',node)\n",
    "        explored.append(node[0])\n",
    "\n",
    "\n",
    "        if node[0] == goal:\n",
    "            print('+++++++++',explored)\n",
    "            path = []\n",
    "            current = goal\n",
    "            while current is not None:\n",
    "                    path.append(current)\n",
    "                    current = parent[current]\n",
    "            path.reverse()\n",
    "            print(path)\n",
    "            break\n",
    "\n",
    "\n",
    "        child = graph.get(node[0])\n",
    "        #print(child)\n",
    "        if child is not None:\n",
    "            child = child.items()\n",
    "            \n",
    "            for i in child:\n",
    "            \n",
    "                if i[0] not in explored and i[0] not in [x[0] for x in q]:\n",
    "                    cost = node[1] + i[1]\n",
    "                    new = (i[0],cost)\n",
    "                    parent[i[0]] = node[0]\n",
    "                    q.append(new)\n",
    "                #print(node[1],'+',i[1],'=',cost)\n",
    "                #print('old: ',i,'new->',new)\n",
    "                #print()\n",
    "            else:\n",
    "                for j in q:\n",
    "                    if j[0] == i[0] and j[1] > node[1] + i[1]:\n",
    "                        q.remove(j)\n",
    "                        parent[i[0]] = node[0]\n",
    "                        q.append((i[0],node[1]+i[1]))\n",
    "            q = sorted(q,key=my)\n",
    "        print('***********',q)\n",
    "\n",
    "                \n",
    "UCS(graph,'Arad','Bucharest')"
   ]
  },
  {
   "cell_type": "markdown",
   "id": "f7272898",
   "metadata": {},
   "source": [
    "-----------------------------------------------------------------------------"
   ]
  },
  {
   "cell_type": "markdown",
   "id": "e27504db",
   "metadata": {},
   "source": [
    "TASK 5"
   ]
  },
  {
   "cell_type": "code",
   "execution_count": 37,
   "id": "66b22439",
   "metadata": {},
   "outputs": [
    {
     "data": {
      "image/png": "[encoded data removed]",
      "text/plain": [
       "<Figure size 720x360 with 1 Axes>"
      ]
     },
     "metadata": {},
     "output_type": "display_data"
    }
   ],
   "source": [
    "#sir i had looked at the assignment before hand and had practiced a little before starting this video, for this task\n",
    "#we had to write in the coords manually to get the desired map style therefore i would be pasting what i wrote before hand\n",
    "\n",
    "import networkx as nx\n",
    "import matplotlib.pyplot as plt\n",
    "\n",
    "# Define the graph\n",
    "G = nx.Graph()\n",
    "\n",
    "#here i wrote these manually to arrange them accordingly\n",
    "# Add nodes to the graph\n",
    "G.add_node('Arad', pos=(0,4))\n",
    "G.add_node('Zerind', pos=(0.5,5))\n",
    "G.add_node('Oradea', pos=(1.4,6))\n",
    "G.add_node('Sibiu', pos=(2.5,3.5))\n",
    "G.add_node('Timisoara', pos=(0,2))\n",
    "G.add_node('Lugoj', pos=(1.5,1))\n",
    "G.add_node('Mehadia', pos=(1.6,-0.7))\n",
    "G.add_node('Dobreta', pos=(1.4,-2.2))\n",
    "G.add_node('Craiova', pos=(4,-2.4))\n",
    "G.add_node('Rimnicu-Vilcea', pos=(3.2,2))\n",
    "G.add_node('Pitesti', pos=(5,0.8))\n",
    "G.add_node('Fagaras', pos=(4.5,3.5))\n",
    "G.add_node('Bucharest', pos=(8,0))\n",
    "G.add_node('Giurgiu', pos=(7,-1))\n",
    "G.add_node('Urziceni', pos=(9.7,1))\n",
    "G.add_node('Vaslui', pos=(11,3.6))\n",
    "G.add_node('Iasi', pos=(10.5,5))\n",
    "G.add_node('Neamt', pos=(9,6))\n",
    "G.add_node('Hirsova', pos=(12,1))\n",
    "G.add_node('Eforie', pos=(13.5,-0.7))\n",
    "\n",
    "# Add edges to the graph\n",
    "G.add_edge('Arad', 'Zerind')\n",
    "G.add_edge('Arad', 'Sibiu')\n",
    "G.add_edge('Arad', 'Timisoara')\n",
    "G.add_edge('Zerind', 'Oradea')\n",
    "G.add_edge('Sibiu', 'Oradea')\n",
    "G.add_edge('Sibiu', 'Fagaras')\n",
    "G.add_edge('Sibiu', 'Rimnicu-Vilcea')\n",
    "G.add_edge('Timisoara', 'Lugoj')\n",
    "G.add_edge('Lugoj', 'Mehadia')\n",
    "G.add_edge('Mehadia', 'Dobreta')\n",
    "G.add_edge('Dobreta', 'Craiova')\n",
    "G.add_edge('Craiova', 'Rimnicu-Vilcea')\n",
    "G.add_edge('Craiova', 'Pitesti')\n",
    "G.add_edge('Pitesti', 'Rimnicu-Vilcea')\n",
    "G.add_edge('Pitesti', 'Bucharest')\n",
    "G.add_edge('Fagaras', 'Bucharest')\n",
    "G.add_edge('Bucharest', 'Giurgiu')\n",
    "G.add_edge('Bucharest', 'Urziceni')\n",
    "G.add_edge('Urziceni', 'Hirsova')\n",
    "G.add_edge('Urziceni', 'Vaslui')\n",
    "G.add_edge('Vaslui', 'Iasi')\n",
    "G.add_edge('Iasi', 'Neamt')\n",
    "G.add_edge('Hirsova', 'Eforie')\n",
    "\n",
    "# Draw the graph\n",
    "pos = nx.get_node_attributes(G, 'pos')\n",
    "plt.figure(3,figsize=(10,5))\n",
    "labels = nx.get_edge_attributes(G, 'weight')\n",
    "nx.draw_networkx_edge_labels(G, pos, edge_labels=labels)\n",
    "nx.draw(G, pos, with_labels=True, font_size=12,font_family = 'georgia', node_size=300,font_weight = 'bold', node_color='lavender', node_shape='s', edgecolors='black', font_color='teal')\n",
    "plt.show()"
   ]
  },
  {
   "cell_type": "markdown",
   "id": "ea65dc29",
   "metadata": {},
   "source": [
    "------------------------------------------------------"
   ]
  },
  {
   "cell_type": "markdown",
   "id": "e291bfeb",
   "metadata": {},
   "source": [
    "TASK 6 UCS on N-Queen\n"
   ]
  },
  {
   "cell_type": "code",
   "execution_count": 38,
   "id": "6466725d",
   "metadata": {},
   "outputs": [
    {
     "name": "stdout",
     "output_type": "stream",
     "text": [
      "1 0 0 0 0 0 0 0 \n",
      "0 0 0 0 1 0 0 0 \n",
      "0 0 0 0 0 0 0 1 \n",
      "0 0 0 0 0 1 0 0 \n",
      "0 0 1 0 0 0 0 0 \n",
      "0 0 0 0 0 0 1 0 \n",
      "0 1 0 0 0 0 0 0 \n",
      "0 0 0 1 0 0 0 0 \n",
      "\n"
     ]
    }
   ],
   "source": [
    "class Node:\n",
    "    def __init__(self):\n",
    "        self.arr = [[0 for _ in range(8)] for _ in range(8)]\n",
    "        self.row = -1\n",
    "        self.column = 0\n",
    "        self.next = None\n",
    "\n",
    "def print_board(a):\n",
    "    for i in range(8):\n",
    "        for j in range(8):\n",
    "            print(a.arr[i][j], end=\" \")\n",
    "        print()\n",
    "    print()\n",
    "\n",
    "def is_valid(a):\n",
    "    # Vertical\n",
    "    for i in range(a.row):\n",
    "        if a.arr[i][a.column] == 1:\n",
    "            return False\n",
    "    # Diagonal1\n",
    "    for i, j in zip(range(a.row-1, -1, -1), range(a.column-1, -1, -1)):\n",
    "        if a.arr[i][j] == 1:\n",
    "            return False\n",
    "    # Diagonal2\n",
    "    for i, j in zip(range(a.row-1, -1, -1), range(a.column+1, 8)):\n",
    "        if a.arr[i][j] == 1:\n",
    "            return False\n",
    "    return True\n",
    "\n",
    "def solve_n_queens(a):\n",
    "    last = Node()\n",
    "    t = 1\n",
    "    while a.row < 8:\n",
    "        for i in range(8):\n",
    "            b = Node()\n",
    "            b.arr = [row[:] for row in a.arr]\n",
    "            b.row = a.row + 1\n",
    "            b.column = i\n",
    "            b.arr[b.row][i] = 1\n",
    "            if t == 1 and is_valid(b):\n",
    "                a.next = b\n",
    "                last = b\n",
    "                last.next = None\n",
    "                t = 0\n",
    "            elif is_valid(b):\n",
    "                last.next = b\n",
    "                last = b\n",
    "                last.next = None\n",
    "        if a.next is not None:\n",
    "            a = a.next\n",
    "        if a.row == 7:\n",
    "            print_board(a)\n",
    "            return\n",
    "    return\n",
    "\n",
    "if __name__ == '__main__':\n",
    "    a = Node()\n",
    "    solve_n_queens(a)\n"
   ]
  },
  {
   "cell_type": "markdown",
   "id": "34125823",
   "metadata": {},
   "source": [
    "BFS N-Queen"
   ]
  },
  {
   "cell_type": "code",
   "execution_count": 41,
   "id": "da25249a",
   "metadata": {},
   "outputs": [
    {
     "name": "stdout",
     "output_type": "stream",
     "text": [
      "1 0 0 0 0 0 0 0 \n",
      "0 0 0 0 1 0 0 0 \n",
      "0 0 0 0 0 0 0 1 \n",
      "0 0 0 0 0 1 0 0 \n",
      "0 0 1 0 0 0 0 0 \n",
      "0 0 0 0 0 0 1 0 \n",
      "0 1 0 0 0 0 0 0 \n",
      "0 0 0 1 0 0 0 0 \n",
      "\n"
     ]
    }
   ],
   "source": [
    "class Node:\n",
    "    def __init__(self):\n",
    "        self.arr = [[0 for i in range(8)] for j in range(8)]\n",
    "        self.row = 0\n",
    "        self.column = 0\n",
    "        self.next = None\n",
    "\n",
    "def print_node(a):\n",
    "    for i in range(8):\n",
    "        for j in range(8):\n",
    "            print(a.arr[i][j], end=\" \")\n",
    "        print()\n",
    "    print()\n",
    "\n",
    "def valid(a):\n",
    "    # vertical\n",
    "    for i in range(a.row):\n",
    "        if a.arr[i][a.column] == 1:\n",
    "            return False\n",
    "    # diagonal1\n",
    "    for i, j in zip(range(a.row-1, -1, -1), range(a.column-1, -1, -1)):\n",
    "        if a.arr[i][j] == 1:\n",
    "            return False\n",
    "    # diagonal2\n",
    "    for i, j in zip(range(a.row-1, -1, -1), range(a.column+1, 8)):\n",
    "        if a.arr[i][j] == 1:\n",
    "            return False\n",
    "    return True\n",
    "\n",
    "def Queen8_BFS():\n",
    "    queue = []\n",
    "    a = Node()\n",
    "    a.row = -1\n",
    "    a.next = None\n",
    "    queue.append(a)\n",
    "    while queue:\n",
    "        a = queue.pop(0)\n",
    "        if a.row == 7:\n",
    "            print_node(a)\n",
    "            return\n",
    "        for i in range(8):\n",
    "            b = Node()\n",
    "            b.arr = [row[:] for row in a.arr]\n",
    "            b.row = a.row + 1\n",
    "            b.column = i\n",
    "            b.arr[b.row][i] = 1\n",
    "            if valid(b):\n",
    "                a.next = b\n",
    "                b.next = None\n",
    "                queue.append(b)\n",
    "\n",
    "if __name__ == '__main__':\n",
    "    Queen8_BFS()"
   ]
  },
  {
   "cell_type": "markdown",
   "id": "4fc05c5c",
   "metadata": {},
   "source": [
    "Thats all for the assignment\n"
   ]
  },
  {
   "cell_type": "code",
   "execution_count": null,
   "id": "3d4b8345",
   "metadata": {},
   "outputs": [],
   "source": []
  }
 ],
 "metadata": {
  "kernelspec": {
   "display_name": "Python 3 (ipykernel)",
   "language": "python",
   "name": "python3"
  },
  "language_info": {
   "codemirror_mode": {
    "name": "ipython",
    "version": 3
   },
   "file_extension": ".py",
   "mimetype": "text/x-python",
   "name": "python",
   "nbconvert_exporter": "python",
   "pygments_lexer": "ipython3",
   "version": "3.9.12"
  }
 },
 "nbformat": 4,
 "nbformat_minor": 5
}
